{
 "cells": [
  {
   "cell_type": "markdown",
   "id": "964ac73b-f82a-4561-81bc-42be9114cac3",
   "metadata": {},
   "source": [
    "#### Cross Encoders\n",
    "\n",
    "`Similarity Calculation`: Cross Encoders calculate similarity scores by taking pairs of texts as input and directly computing their similarity. Unlike Sentence Transformers, which encode texts separately, Cross Encoders consider both texts simultaneously.\n",
    "\n",
    "`Performance`: Cross Encoders generally provide superior performance in terms of accuracy because they capture the interactions between the two texts more effectively. This makes them especially good for tasks where precise semantic matching is crucial.\n",
    "\n",
    "`Computational Cost`: Cross Encoders are often slower than Sentence Transformers because they need to process each pair of texts individually. This results in higher computational costs, especially when comparing many pairs of texts.\n",
    "\n",
    "`Use Case` - Re-ranking: Due to their higher computational cost, Cross Encoders are commonly used to re-rank the top-k results from a Sentence Transformer model. The typical workflow involves:\n",
    "\n",
    "    - Using a Sentence Transformer to encode a large corpus and quickly retrieve the top-k most similar texts.\n",
    "    - Applying a Cross Encoder to the top-k pairs to re-rank them more accurately."
   ]
  },
  {
   "cell_type": "code",
   "execution_count": 2,
   "id": "201e76ff-6bf5-4a4f-8804-994cf4739749",
   "metadata": {},
   "outputs": [],
   "source": [
    "from sentence_transformers import CrossEncoder"
   ]
  },
  {
   "cell_type": "code",
   "execution_count": 3,
   "id": "22af4112-92a7-4d60-9111-259e6f45e1f1",
   "metadata": {},
   "outputs": [
    {
     "name": "stderr",
     "output_type": "stream",
     "text": [
      "D:\\Anaconda-16-FEB\\lib\\site-packages\\transformers\\tokenization_utils_base.py:1601: FutureWarning: `clean_up_tokenization_spaces` was not set. It will be set to `True` by default. This behavior will be depracted in transformers v4.45, and will be then set to `False` by default. For more details check this issue: https://github.com/huggingface/transformers/issues/31884\n",
      "  warnings.warn(\n"
     ]
    }
   ],
   "source": [
    "# 1. Load a pre-trained CrossEncoder model\n",
    "model = CrossEncoder(\"cross-encoder/ms-marco-MiniLM-L-6-v2\")"
   ]
  },
  {
   "cell_type": "code",
   "execution_count": 4,
   "id": "5cbddbb3-bcfd-41b2-975b-6b65c506ba78",
   "metadata": {},
   "outputs": [
    {
     "data": {
      "text/plain": [
       "array([ 8.6071415, -4.320076 ], dtype=float32)"
      ]
     },
     "execution_count": 4,
     "metadata": {},
     "output_type": "execute_result"
    }
   ],
   "source": [
    "# 2. Predict scores for a pair of sentences\n",
    "scores = model.predict([\n",
    "    (\"How many people live in Berlin?\", \"Berlin had a population of 3,520,031 registered inhabitants in an area of 891.82 square kilometers.\"),\n",
    "    (\"How many people live in Berlin?\", \"Berlin is well known for its museums.\"),\n",
    "])\n",
    "\n",
    "scores"
   ]
  },
  {
   "cell_type": "code",
   "execution_count": 5,
   "id": "d7276b95-a3e7-4673-bd70-2a8e79faff14",
   "metadata": {},
   "outputs": [],
   "source": [
    "# 3. Rank a list of passages for a query\n",
    "query = \"How many people live in Berlin?\"\n",
    "\n",
    "passages = [\n",
    "    \"Berlin had a population of 3,520,031 registered inhabitants in an area of 891.82 square kilometers.\",\n",
    "    \"Berlin is well known for its museums.\",\n",
    "    \"In 2014, the city state Berlin had 37,368 live births (+6.6%), a record number since 1991.\",\n",
    "    \"The urban area of Berlin comprised about 4.1 million people in 2014, making it the seventh most populous urban area in the European Union.\",\n",
    "    \"The city of Paris had a population of 2,165,423 people within its administrative city limits as of January 1, 2019\",\n",
    "    \"An estimated 300,000-420,000 Muslims reside in Berlin, making up about 8-11 percent of the population.\",\n",
    "    \"Berlin is subdivided into 12 boroughs or districts (Bezirke).\",\n",
    "    \"In 2015, the total labour force in Berlin was 1.85 million.\",\n",
    "    \"In 2013 around 600,000 Berliners were registered in one of the more than 2,300 sport and fitness clubs.\",\n",
    "    \"Berlin has a yearly total of about 135 million day visitors, which puts it in third place among the most-visited city destinations in the European Union.\",\n",
    "]"
   ]
  },
  {
   "cell_type": "code",
   "execution_count": 6,
   "id": "eb10d666-9b2f-4811-9cac-256dad04cd44",
   "metadata": {},
   "outputs": [],
   "source": [
    "ranks = model.rank(query, passages)"
   ]
  },
  {
   "cell_type": "code",
   "execution_count": 7,
   "id": "cd3923f3-0d9d-415d-badc-da65a2b0d66c",
   "metadata": {},
   "outputs": [
    {
     "name": "stdout",
     "output_type": "stream",
     "text": [
      "Query: How many people live in Berlin?\n",
      "8.92\tThe urban area of Berlin comprised about 4.1 million people in 2014, making it the seventh most populous urban area in the European Union.\n",
      "8.61\tBerlin had a population of 3,520,031 registered inhabitants in an area of 891.82 square kilometers.\n",
      "8.24\tAn estimated 300,000-420,000 Muslims reside in Berlin, making up about 8-11 percent of the population.\n",
      "7.60\tIn 2014, the city state Berlin had 37,368 live births (+6.6%), a record number since 1991.\n",
      "6.35\tIn 2013 around 600,000 Berliners were registered in one of the more than 2,300 sport and fitness clubs.\n",
      "5.42\tBerlin has a yearly total of about 135 million day visitors, which puts it in third place among the most-visited city destinations in the European Union.\n",
      "3.45\tIn 2015, the total labour force in Berlin was 1.85 million.\n",
      "0.33\tBerlin is subdivided into 12 boroughs or districts (Bezirke).\n",
      "-4.24\tThe city of Paris had a population of 2,165,423 people within its administrative city limits as of January 1, 2019\n",
      "-4.32\tBerlin is well known for its museums.\n"
     ]
    }
   ],
   "source": [
    "# Print the scores\n",
    "print(\"Query:\", query)\n",
    "for rank in ranks:\n",
    "    print(f\"{rank['score']:.2f}\\t{passages[rank['corpus_id']]}\")"
   ]
  },
  {
   "cell_type": "markdown",
   "id": "7a4b023e-8098-4135-ad47-f6b2a76af4c6",
   "metadata": {},
   "source": [
    "#### How to Use a Cross Encoder\n",
    "\n",
    "1. **Input Concatenation:**\n",
    "   - Combine the two inputs (e.g., a query and a document, or two sentences) into a single sequence, typically separated by a special token (like `[SEP]` in BERT models).\n",
    "\n",
    "2. **Encoding:**\n",
    "   - Pass the concatenated input sequence through the cross encoder model, which jointly processes both inputs and generates a representation for the combined sequence.\n",
    "\n",
    "3. **Prediction:**\n",
    "   - The model's output is used to predict the relationship between the two inputs, such as a similarity score, classification label, or relevance score.\n",
    "\n",
    "#### When to Use a Cross Encoder\n",
    "\n",
    "- **Detailed Pairwise Comparison:**\n",
    "  Use cross encoders when you need to capture detailed interactions between two inputs, making them ideal for tasks like sentence pair classification, paraphrase detection, and semantic matching.\n",
    "\n",
    "- **Ranking and Classification:**\n",
    "  Cross encoders are highly effective in ranking tasks where the precise relationship between a query and potential candidates needs to be evaluated, as well as in binary or multi-class classification tasks involving input pairs.\n",
    "\n",
    "- **High-Accuracy Requirements:**\n",
    "  When accuracy is critical, especially in tasks where understanding subtle nuances between two inputs is necessary, cross encoders are preferred due to their ability to model complex interactions.\n",
    "\n",
    "#### Strengths of Cross Encoders\n",
    "\n",
    "- **Rich Interaction Modeling:**\n",
    "  Cross encoders capture detailed, token-level interactions between inputs, leading to a more accurate and nuanced understanding of their relationship.\n",
    "\n",
    "- **High Accuracy:**\n",
    "  By processing both inputs together, cross encoders often achieve higher accuracy on tasks requiring precise pairwise comparisons.\n",
    "\n",
    "- **Versatility:**\n",
    "  Cross encoders can be applied to various NLP tasks, including sentence similarity, paraphrase identification, and document ranking.\n",
    "\n",
    "#### Limitations of Cross Encoders\n",
    "\n",
    "- **Computationally Expensive:**\n",
    "  Cross encoders are more computationally intensive than dual encoders, as each pair of inputs must be processed together, leading to slower inference times.\n",
    "\n",
    "- **Scalability Issues:**\n",
    "  The joint encoding of input pairs limits the scalability of cross encoders, making them less efficient for large-scale applications where many pairs need to be processed rapidly.\n",
    "\n",
    "- **Inefficient for Large-Scale Retrieval:**\n",
    "  In scenarios like document retrieval, where a query must be compared against numerous candidates, cross encoders can be inefficient since they require encoding every possible pair from scratch.\n"
   ]
  },
  {
   "cell_type": "code",
   "execution_count": null,
   "id": "2232778a-3c11-4333-a3f3-8e6941788f1e",
   "metadata": {},
   "outputs": [],
   "source": []
  }
 ],
 "metadata": {
  "kernelspec": {
   "display_name": "Python 3 (ipykernel)",
   "language": "python",
   "name": "python3"
  },
  "language_info": {
   "codemirror_mode": {
    "name": "ipython",
    "version": 3
   },
   "file_extension": ".py",
   "mimetype": "text/x-python",
   "name": "python",
   "nbconvert_exporter": "python",
   "pygments_lexer": "ipython3",
   "version": "3.12.3"
  }
 },
 "nbformat": 4,
 "nbformat_minor": 5
}
